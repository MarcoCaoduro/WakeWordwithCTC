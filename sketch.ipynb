{
 "cells": [
  {
   "cell_type": "code",
   "execution_count": null,
   "id": "653e35de",
   "metadata": {},
   "outputs": [],
   "source": []
  },
  {
   "cell_type": "markdown",
   "id": "e496f394",
   "metadata": {},
   "source": [
    "I want to implement the edit distance function"
   ]
  },
  {
   "cell_type": "code",
   "execution_count": 1,
   "id": "9c77eed1",
   "metadata": {},
   "outputs": [],
   "source": [
    "def edit_distance(word1, word2):\n",
    "    \"\"\" \n",
    "    Compute the Edit Distance of str1 and str2. \n",
    "    The edit distance of two strings p and q is the minumum number of\n",
    "    operations required to turn p into q.\n",
    "    The permited operations are:\n",
    "     - (1) delete a character\n",
    "     - (2) replace a character\n",
    "     - (3) add acharacter\n",
    "\n",
    "    Input:\n",
    "     - str1, str2: two strings\n",
    "    Output:\n",
    "     - ed: a positive integer equal to the edit distance of str1 and str2\n",
    "    \"\"\"\n",
    "    n1 = len(word1)\n",
    "    n2 = len(word2)\n",
    "\n",
    "    #DP[i,j] contains the edit distance of word1[i:] and word2[j:]\n",
    "    DP = [[0 for _ in range(n2+1)] for _ in range(n1+1)]\n",
    "\n",
    "    # Base Case (1): word1[n1:] = '' (last row of the DP matrix)\n",
    "    for col in range(n2, -1, -1):\n",
    "        DP[-1][col] = n2 - col\n",
    "\n",
    "    # Base Case (2): word2[n2:] = '' (last column of the DP matrix)\n",
    "    for row in range(n1, -1, -1):\n",
    "        DP[row][-1] = n1 - row\n",
    "\n",
    "    # Iterative Case: \n",
    "    for row in range(n1 - 1, -1, -1):\n",
    "        for col in range(n2 - 1, -1, -1):\n",
    "            if word1[row] == word2[col]:\n",
    "                DP[row][col] = DP[row+1][col+1]\n",
    "            else:\n",
    "                insert_operation  = 1 + DP[row][col+1] \n",
    "                delete_operation  = 1 + DP[row+1][col]\n",
    "                replace_operation = 1 + DP[row+1][col+1]\n",
    "                DP[row][col] = min(insert_operation, delete_operation, replace_operation)\n",
    "\n",
    "    return DP[0][0]\n",
    "\n",
    "\n",
    "\n",
    "\n"
   ]
  },
  {
   "cell_type": "code",
   "execution_count": 2,
   "id": "69349a7f",
   "metadata": {},
   "outputs": [
    {
     "name": "stdout",
     "output_type": "stream",
     "text": [
      "The edit distance of horse and ros is 3\n"
     ]
    }
   ],
   "source": [
    "w1 = 'horse'\n",
    "w2 = 'ros'\n",
    "\n",
    "print(f\"The edit distance of {w1} and {w2} is {edit_distance(w1,w2)}\")"
   ]
  },
  {
   "cell_type": "code",
   "execution_count": null,
   "id": "56a6fc24",
   "metadata": {},
   "outputs": [],
   "source": []
  }
 ],
 "metadata": {
  "kernelspec": {
   "display_name": "venv",
   "language": "python",
   "name": "python3"
  },
  "language_info": {
   "codemirror_mode": {
    "name": "ipython",
    "version": 3
   },
   "file_extension": ".py",
   "mimetype": "text/x-python",
   "name": "python",
   "nbconvert_exporter": "python",
   "pygments_lexer": "ipython3",
   "version": "3.12.8"
  }
 },
 "nbformat": 4,
 "nbformat_minor": 5
}
