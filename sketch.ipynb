{
 "cells": [
  {
   "cell_type": "code",
   "execution_count": null,
   "id": "653e35de",
   "metadata": {},
   "outputs": [],
   "source": []
  },
  {
   "cell_type": "markdown",
   "id": "e496f394",
   "metadata": {},
   "source": [
    "I want to implement the edit distance function"
   ]
  },
  {
   "cell_type": "code",
   "execution_count": null,
   "id": "9c77eed1",
   "metadata": {},
   "outputs": [],
   "source": [
    "def edit_distance(word1: str, word2: str) -> int:\n",
    "    \"\"\"\n",
    "    Compute the edit distance between two strings.\n",
    "\n",
    "    The edit distance between two strings is the minimum number of operations\n",
    "    required to transform one string into the other. The permitted operations are:\n",
    "    - Delete a character\n",
    "    - Insert a character\n",
    "    - Replace a character\n",
    "\n",
    "    Args:\n",
    "        - word1 (str): The source string\n",
    "        - word2 (str): The target string\n",
    "\n",
    "    Returns:\n",
    "        - int: The edit distance between word1 and word2\n",
    "    \"\"\"\n",
    "    n1 = len(word1)\n",
    "    n2 = len(word2)\n",
    "\n",
    "    # DP[i][j] = edit distance between word1[i:] and word2[j:]\n",
    "    DP = [[0 for _ in range(n2+1)] for _ in range(n1+1)]\n",
    "\n",
    "    # Base Case (1): word1[n1:] = '' (last row of the DP matrix)\n",
    "    for col in reversed(range(n2+1)):\n",
    "        DP[-1][col] = n2 - col\n",
    "\n",
    "    # Base Case (2): word2[n2:] = '' (last column of the DP matrix)\n",
    "    for row in reversed(range(n1+1)):\n",
    "        DP[row][-1] = n1 - row\n",
    "\n",
    "    # Iterative Case: \n",
    "    for row in reversed(range(n1)):\n",
    "        for col in reversed(range(n2)):\n",
    "            if word1[row] == word2[col]:\n",
    "                DP[row][col] = DP[row+1][col+1]\n",
    "            else:\n",
    "                insert_op  = 1 + DP[row][col+1] \n",
    "                delete_op  = 1 + DP[row+1][col]\n",
    "                replace_op = 1 + DP[row+1][col+1]\n",
    "                DP[row][col] = min(insert_op, delete_op, replace_op)\n",
    "\n",
    "    return DP[0][0]\n",
    "\n",
    "\n",
    "\n",
    "\n"
   ]
  },
  {
   "cell_type": "code",
   "execution_count": 2,
   "id": "69349a7f",
   "metadata": {},
   "outputs": [
    {
     "name": "stdout",
     "output_type": "stream",
     "text": [
      "The edit distance of horse and ros is 3\n"
     ]
    }
   ],
   "source": [
    "w1 = 'horse'\n",
    "w2 = 'ros'\n",
    "\n",
    "print(f\"The edit distance of {w1} and {w2} is {edit_distance(w1,w2)}\")"
   ]
  },
  {
   "cell_type": "code",
   "execution_count": 19,
   "id": "56a6fc24",
   "metadata": {},
   "outputs": [],
   "source": [
    "def label_error_rate(predicted: list, target: list) -> float:\n",
    "    \"\"\"\n",
    "    Compute the Label Error Rate (LER) between two sequences:\n",
    "        LER(h,S) = 1/|S| sum_{(x,z) in S} ED(h(x),z)/|z|\n",
    "\n",
    "    Args:\n",
    "        - predicted (list): The predicted sequence of labels.\n",
    "        - target (list): The ground truth sequence of labels.\n",
    "\n",
    "    Returns:\n",
    "        - float: The label error rate as a proportion.\n",
    "    \"\"\"\n",
    "    assert len(predicted) == len(target), \"Error: The given lists have different size\" \n",
    "    assert len(predicted)*len(target) != 0, \"Error: One of the given lists is empty\"\n",
    "    assert all(word != '' for word in target), \"All elements target must be non-empty strings\"\n",
    "    \n",
    "    n = len(predicted)\n",
    "\n",
    "    # Compute the edit distance between the predicted and target sequences\n",
    "    distance = sum([edit_distance(p, t)/len(t) for p, t in zip(predicted, target)])\n",
    "\n",
    "    # Compute the label error rate\n",
    "    ler = distance / len(target)\n",
    "\n",
    "    return ler"
   ]
  },
  {
   "cell_type": "code",
   "execution_count": 21,
   "id": "414389a8",
   "metadata": {},
   "outputs": [
    {
     "name": "stdout",
     "output_type": "stream",
     "text": [
      "The label error rate of ['ciao', 'ros', 'a'] and ['ciao', 'horse', 'aa'] is 0.667\n"
     ]
    }
   ],
   "source": [
    "target = ['ciao', 'ros', 'a']\n",
    "predicted = ['ciao', 'horse', 'aa']\n",
    "\n",
    "print(f'The label error rate of {target} and {predicted} is {label_error_rate(predicted, target):.3f}')\n"
   ]
  },
  {
   "cell_type": "code",
   "execution_count": null,
   "id": "d2ce29f4",
   "metadata": {},
   "outputs": [],
   "source": []
  }
 ],
 "metadata": {
  "kernelspec": {
   "display_name": "venv",
   "language": "python",
   "name": "python3"
  },
  "language_info": {
   "codemirror_mode": {
    "name": "ipython",
    "version": 3
   },
   "file_extension": ".py",
   "mimetype": "text/x-python",
   "name": "python",
   "nbconvert_exporter": "python",
   "pygments_lexer": "ipython3",
   "version": "3.12.8"
  }
 },
 "nbformat": 4,
 "nbformat_minor": 5
}
